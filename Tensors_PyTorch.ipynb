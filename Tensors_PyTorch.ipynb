{
  "nbformat": 4,
  "nbformat_minor": 0,
  "metadata": {
    "colab": {
      "provenance": [],
      "gpuType": "T4",
      "authorship_tag": "ABX9TyMGWYju4Ch79YpJX2QS45EW",
      "include_colab_link": true
    },
    "kernelspec": {
      "name": "python3",
      "display_name": "Python 3"
    },
    "language_info": {
      "name": "python"
    },
    "accelerator": "GPU"
  },
  "cells": [
    {
      "cell_type": "markdown",
      "metadata": {
        "id": "view-in-github",
        "colab_type": "text"
      },
      "source": [
        "<a href=\"https://colab.research.google.com/github/Arjun1425/PyTorch/blob/main/Tensors_PyTorch.ipynb\" target=\"_parent\"><img src=\"https://colab.research.google.com/assets/colab-badge.svg\" alt=\"Open In Colab\"/></a>"
      ]
    },
    {
      "cell_type": "code",
      "execution_count": 1,
      "metadata": {
        "colab": {
          "base_uri": "https://localhost:8080/"
        },
        "id": "xsw9HaORnITw",
        "outputId": "7882cca0-da17-4946-e221-873128e81d57"
      },
      "outputs": [
        {
          "output_type": "stream",
          "name": "stdout",
          "text": [
            "2.5.1+cu124\n"
          ]
        }
      ],
      "source": [
        "import torch\n",
        "print(torch.__version__)"
      ]
    },
    {
      "cell_type": "code",
      "source": [
        "if torch.cuda.is_available():\n",
        "    print('cuda')\n",
        "    print(f'GPU name: {torch.cuda.get_device_name()}')\n",
        "else:\n",
        "    print('cpu')"
      ],
      "metadata": {
        "colab": {
          "base_uri": "https://localhost:8080/"
        },
        "id": "2rltCV8Xrm5V",
        "outputId": "895f02b3-693e-4884-f0cf-aca47ec14efc"
      },
      "execution_count": 2,
      "outputs": [
        {
          "output_type": "stream",
          "name": "stdout",
          "text": [
            "cuda\n",
            "GPU name: Tesla T4\n"
          ]
        }
      ]
    },
    {
      "cell_type": "markdown",
      "source": [
        "## Creating a Tensor"
      ],
      "metadata": {
        "id": "SO62YCmosMt7"
      }
    },
    {
      "cell_type": "code",
      "source": [
        "# using empty\n",
        "\"It allocates a space in memory with the specified size and displays the pre-existing value stored in that memory location.\"\n",
        "x = torch.empty(3,4)\n",
        "print(x)\n",
        "\n",
        "# check type\n",
        "print(type(x))\n",
        "print(x.dtype)"
      ],
      "metadata": {
        "colab": {
          "base_uri": "https://localhost:8080/"
        },
        "id": "LXbK8OcssKjs",
        "outputId": "07be37a2-eb47-471c-c7da-31bd5ad3c43a"
      },
      "execution_count": 3,
      "outputs": [
        {
          "output_type": "stream",
          "name": "stdout",
          "text": [
            "tensor([[0., 0., 0., 0.],\n",
            "        [0., 0., 0., 0.],\n",
            "        [0., 0., 0., 0.]])\n",
            "<class 'torch.Tensor'>\n",
            "torch.float32\n"
          ]
        }
      ]
    },
    {
      "cell_type": "code",
      "source": [
        "# using zeros\n",
        "x = torch.zeros(3,4)\n",
        "print(x)"
      ],
      "metadata": {
        "colab": {
          "base_uri": "https://localhost:8080/"
        },
        "id": "36-CVlD3upyO",
        "outputId": "628c3113-16fc-4561-ca49-bea297180083"
      },
      "execution_count": 4,
      "outputs": [
        {
          "output_type": "stream",
          "name": "stdout",
          "text": [
            "tensor([[0., 0., 0., 0.],\n",
            "        [0., 0., 0., 0.],\n",
            "        [0., 0., 0., 0.]])\n"
          ]
        }
      ]
    },
    {
      "cell_type": "code",
      "source": [
        "# using ones\n",
        "x = torch.ones(3,4)\n",
        "print(x)"
      ],
      "metadata": {
        "colab": {
          "base_uri": "https://localhost:8080/"
        },
        "id": "ZejzXZbUuvoD",
        "outputId": "299e396c-ba2e-4ead-a8af-fe3e09812981"
      },
      "execution_count": 5,
      "outputs": [
        {
          "output_type": "stream",
          "name": "stdout",
          "text": [
            "tensor([[1., 1., 1., 1.],\n",
            "        [1., 1., 1., 1.],\n",
            "        [1., 1., 1., 1.]])\n"
          ]
        }
      ]
    },
    {
      "cell_type": "code",
      "source": [
        "# using rand\n",
        "x = torch.rand(3,4)\n",
        "print(x)"
      ],
      "metadata": {
        "colab": {
          "base_uri": "https://localhost:8080/"
        },
        "id": "zhYRndZxu2vH",
        "outputId": "93dd4b71-bdcd-4954-e0e1-98fc5f4fb2e4"
      },
      "execution_count": 6,
      "outputs": [
        {
          "output_type": "stream",
          "name": "stdout",
          "text": [
            "tensor([[0.2622, 0.6250, 0.3231, 0.0015],\n",
            "        [0.3028, 0.5023, 0.9643, 0.8778],\n",
            "        [0.6139, 0.3001, 0.0859, 0.7837]])\n"
          ]
        }
      ]
    },
    {
      "cell_type": "code",
      "source": [
        "# use rand with seed to get the same values all the time.\n",
        "torch.manual_seed(42)\n",
        "x = torch.rand(3,4)\n",
        "print(x)"
      ],
      "metadata": {
        "colab": {
          "base_uri": "https://localhost:8080/"
        },
        "id": "AF6Y7jJku-nR",
        "outputId": "32f35b9f-afa2-47f9-8bf3-f91dcf2b208a"
      },
      "execution_count": 7,
      "outputs": [
        {
          "output_type": "stream",
          "name": "stdout",
          "text": [
            "tensor([[0.8823, 0.9150, 0.3829, 0.9593],\n",
            "        [0.3904, 0.6009, 0.2566, 0.7936],\n",
            "        [0.9408, 0.1332, 0.9346, 0.5936]])\n"
          ]
        }
      ]
    },
    {
      "cell_type": "code",
      "source": [
        "# Using tensor: To build custom based tensors.\n",
        "x = torch.tensor([[1,2,3],[4,5,6]])\n",
        "print(x)"
      ],
      "metadata": {
        "colab": {
          "base_uri": "https://localhost:8080/"
        },
        "id": "U5W855dQvQU5",
        "outputId": "7ba5fa9e-3750-4474-c515-99c97bdd0e83"
      },
      "execution_count": 8,
      "outputs": [
        {
          "output_type": "stream",
          "name": "stdout",
          "text": [
            "tensor([[1, 2, 3],\n",
            "        [4, 5, 6]])\n"
          ]
        }
      ]
    },
    {
      "cell_type": "code",
      "source": [
        "# Other ways.\n",
        "# arange\n",
        "x = torch.arange(0,18,2)\n",
        "print(x)\n",
        "\n",
        "# linspace\n",
        "x = torch.linspace(0,18,12)\n",
        "print(x)\n",
        "\n",
        "# using eye\n",
        "x = torch.eye(5)\n",
        "print(x)\n",
        "\n",
        "# using full\n",
        "x = torch.full((2,3), 5)\n",
        "print(x)"
      ],
      "metadata": {
        "colab": {
          "base_uri": "https://localhost:8080/"
        },
        "id": "Nh5STNOuv0EX",
        "outputId": "b693ffcb-f327-441c-b9d4-02315ad50d4a"
      },
      "execution_count": 9,
      "outputs": [
        {
          "output_type": "stream",
          "name": "stdout",
          "text": [
            "tensor([ 0,  2,  4,  6,  8, 10, 12, 14, 16])\n",
            "tensor([ 0.0000,  1.6364,  3.2727,  4.9091,  6.5455,  8.1818,  9.8182, 11.4545,\n",
            "        13.0909, 14.7273, 16.3636, 18.0000])\n",
            "tensor([[1., 0., 0., 0., 0.],\n",
            "        [0., 1., 0., 0., 0.],\n",
            "        [0., 0., 1., 0., 0.],\n",
            "        [0., 0., 0., 1., 0.],\n",
            "        [0., 0., 0., 0., 1.]])\n",
            "tensor([[5, 5, 5],\n",
            "        [5, 5, 5]])\n"
          ]
        }
      ]
    },
    {
      "cell_type": "markdown",
      "source": [
        "## Tensor Shapes"
      ],
      "metadata": {
        "id": "NcCzW4M8wzwM"
      }
    },
    {
      "cell_type": "code",
      "source": [
        "print(x.shape)\n",
        "print(x.size())"
      ],
      "metadata": {
        "colab": {
          "base_uri": "https://localhost:8080/"
        },
        "id": "QTnnIeTIwtLt",
        "outputId": "4ea425ec-d685-47fe-e7ae-a7529eb6256c"
      },
      "execution_count": 10,
      "outputs": [
        {
          "output_type": "stream",
          "name": "stdout",
          "text": [
            "torch.Size([2, 3])\n",
            "torch.Size([2, 3])\n"
          ]
        }
      ]
    },
    {
      "cell_type": "code",
      "source": [
        "# If you want to make the tensor with the same shape of other tensors.\n",
        "y = torch.empty_like(x)\n",
        "print(y)\n",
        "\n",
        "y = torch.zeros_like(x)\n",
        "print(y)\n",
        "\n",
        "y = torch.ones_like(x)\n",
        "print(y)\n",
        "\n",
        "#y = torch.rand_like(x)        # This will give you the error because random function generates number between 0 to 1 (float).\n",
        "#print(y)"
      ],
      "metadata": {
        "colab": {
          "base_uri": "https://localhost:8080/"
        },
        "id": "B113SV7qxRAW",
        "outputId": "6a2966f3-de51-4ee8-fe34-d228dde2b0bb"
      },
      "execution_count": 11,
      "outputs": [
        {
          "output_type": "stream",
          "name": "stdout",
          "text": [
            "tensor([[              0,       155945920,       130520768],\n",
            "        [137966772804144,               0,               0]])\n",
            "tensor([[0, 0, 0],\n",
            "        [0, 0, 0]])\n",
            "tensor([[1, 1, 1],\n",
            "        [1, 1, 1]])\n"
          ]
        }
      ]
    },
    {
      "cell_type": "markdown",
      "source": [
        "## Tensor Data types"
      ],
      "metadata": {
        "id": "8J-P01bXyctI"
      }
    },
    {
      "cell_type": "code",
      "source": [
        "# find data type\n",
        "print(x.dtype)"
      ],
      "metadata": {
        "colab": {
          "base_uri": "https://localhost:8080/"
        },
        "id": "GQGSU4WFyj3a",
        "outputId": "33daa2fb-7ec0-4c71-b59a-e79b200e6603"
      },
      "execution_count": 12,
      "outputs": [
        {
          "output_type": "stream",
          "name": "stdout",
          "text": [
            "torch.int64\n"
          ]
        }
      ]
    },
    {
      "cell_type": "code",
      "source": [
        "# assign data type to a tensor.\n",
        "x = torch.empty(3,4, dtype=torch.int32)\n",
        "print(x)"
      ],
      "metadata": {
        "colab": {
          "base_uri": "https://localhost:8080/"
        },
        "id": "KuiNM30mzZ3k",
        "outputId": "53b3ca8b-d11a-4e95-c050-f85025a56ef7"
      },
      "execution_count": 13,
      "outputs": [
        {
          "output_type": "stream",
          "name": "stdout",
          "text": [
            "tensor([[ 572533794, 1701864804, 1852138606, 1936025955],\n",
            "        [1952804191, 1948269090,  744846706, 1852121632],\n",
            "        [1701734759,  572537378, 1647915878,  828466531]], dtype=torch.int32)\n"
          ]
        }
      ]
    },
    {
      "cell_type": "code",
      "source": [
        "# Using to() --> You can do the same task with the to().\n",
        "x = torch.empty(3,4)\n",
        "print(x)\n",
        "x = x.to(torch.float16)\n",
        "print(x)"
      ],
      "metadata": {
        "colab": {
          "base_uri": "https://localhost:8080/"
        },
        "id": "mivndSeRzpEK",
        "outputId": "353bc8cf-d3be-4103-8dc7-29e4c86490fe"
      },
      "execution_count": 14,
      "outputs": [
        {
          "output_type": "stream",
          "name": "stdout",
          "text": [
            "tensor([[ 3.0031e-34,  0.0000e+00, -1.6608e+22,  4.5013e-41],\n",
            "        [ 0.0000e+00,  0.0000e+00,  0.0000e+00,  0.0000e+00],\n",
            "        [ 0.0000e+00,  0.0000e+00,  0.0000e+00,  0.0000e+00]])\n",
            "tensor([[0., 0., -inf, 0.],\n",
            "        [0., 0., 0., 0.],\n",
            "        [0., 0., 0., 0.]], dtype=torch.float16)\n"
          ]
        }
      ]
    },
    {
      "cell_type": "markdown",
      "source": [
        "![Screenshot 2025-02-04 at 6.58.12 AM.png](data:image/png;base64,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)"
      ],
      "metadata": {
        "id": "W77wdDyW0w_y"
      }
    },
    {
      "cell_type": "code",
      "source": [
        "# Using random like to create a tensor. --> You should mention datatype here.\n",
        "print(x)\n",
        "x = torch.rand_like(x, dtype=torch.float32)\n",
        "print(x)"
      ],
      "metadata": {
        "id": "1bi8D8nq1DMn",
        "colab": {
          "base_uri": "https://localhost:8080/"
        },
        "outputId": "1dc50616-c209-40c4-8ac1-409a93be133e"
      },
      "execution_count": 15,
      "outputs": [
        {
          "output_type": "stream",
          "name": "stdout",
          "text": [
            "tensor([[0., 0., -inf, 0.],\n",
            "        [0., 0., 0., 0.],\n",
            "        [0., 0., 0., 0.]], dtype=torch.float16)\n",
            "tensor([[0.8694, 0.5677, 0.7411, 0.4294],\n",
            "        [0.8854, 0.5739, 0.2666, 0.6274],\n",
            "        [0.2696, 0.4414, 0.2969, 0.8317]])\n"
          ]
        }
      ]
    },
    {
      "cell_type": "markdown",
      "source": [
        "## Mathematical operations"
      ],
      "metadata": {
        "id": "odM_F9Itscjz"
      }
    },
    {
      "cell_type": "markdown",
      "source": [
        "### 1. Scalar operations: Tensor with scalar."
      ],
      "metadata": {
        "id": "a_xsBJ4Msp2b"
      }
    },
    {
      "cell_type": "code",
      "source": [
        "x = torch.rand(3, 3)\n",
        "print(x)"
      ],
      "metadata": {
        "colab": {
          "base_uri": "https://localhost:8080/"
        },
        "id": "vQdqeuZssb6K",
        "outputId": "24e2e21c-185f-4903-b63f-34d922059214"
      },
      "execution_count": 16,
      "outputs": [
        {
          "output_type": "stream",
          "name": "stdout",
          "text": [
            "tensor([[0.1053, 0.2695, 0.3588],\n",
            "        [0.1994, 0.5472, 0.0062],\n",
            "        [0.9516, 0.0753, 0.8860]])\n"
          ]
        }
      ]
    },
    {
      "cell_type": "code",
      "source": [
        "# addition\n",
        "print(x + 10)\n",
        "# substraction\n",
        "print(x - 10)\n",
        "# multiplication\n",
        "print(x * 10)\n",
        "# int division\n",
        "print(x / 10)\n",
        "# mod\n",
        "print((x * 100)//3)\n",
        "# power\n",
        "print(x**2)"
      ],
      "metadata": {
        "colab": {
          "base_uri": "https://localhost:8080/"
        },
        "id": "rsIjAfL0tZjv",
        "outputId": "6b91d7b6-7385-433b-9331-527fbcda1ed1"
      },
      "execution_count": 17,
      "outputs": [
        {
          "output_type": "stream",
          "name": "stdout",
          "text": [
            "tensor([[10.1053, 10.2695, 10.3588],\n",
            "        [10.1994, 10.5472, 10.0062],\n",
            "        [10.9516, 10.0753, 10.8860]])\n",
            "tensor([[-9.8947, -9.7305, -9.6412],\n",
            "        [-9.8006, -9.4528, -9.9938],\n",
            "        [-9.0484, -9.9247, -9.1140]])\n",
            "tensor([[1.0531, 2.6949, 3.5881],\n",
            "        [1.9936, 5.4719, 0.0616],\n",
            "        [9.5155, 0.7527, 8.8601]])\n",
            "tensor([[0.0105, 0.0269, 0.0359],\n",
            "        [0.0199, 0.0547, 0.0006],\n",
            "        [0.0952, 0.0075, 0.0886]])\n",
            "tensor([[ 3.,  8., 11.],\n",
            "        [ 6., 18.,  0.],\n",
            "        [31.,  2., 29.]])\n",
            "tensor([[1.1091e-02, 7.2627e-02, 1.2875e-01],\n",
            "        [3.9746e-02, 2.9942e-01, 3.7951e-05],\n",
            "        [9.0546e-01, 5.6650e-03, 7.8502e-01]])\n"
          ]
        }
      ]
    },
    {
      "cell_type": "markdown",
      "source": [
        "### 2. Element wise operations: Tensor with tensor."
      ],
      "metadata": {
        "id": "gihKkjfvuoPz"
      }
    },
    {
      "cell_type": "code",
      "source": [
        "a = torch.full((2, 3), 10)\n",
        "b = torch.full((2, 3), 5)\n",
        "print(a)\n",
        "print(b)\n",
        "# addition\n",
        "print(a + b)\n",
        "# substraction\n",
        "print(a - b)\n",
        "# multiplication\n",
        "print(a * b)\n",
        "# division\n",
        "print(a / b)\n",
        "# power\n",
        "print(a**b)\n",
        "# mod\n",
        "print(a // b)"
      ],
      "metadata": {
        "colab": {
          "base_uri": "https://localhost:8080/"
        },
        "id": "9H1XFDSdukWr",
        "outputId": "2232502f-b5a0-49e1-e858-4426c494d735"
      },
      "execution_count": 18,
      "outputs": [
        {
          "output_type": "stream",
          "name": "stdout",
          "text": [
            "tensor([[10, 10, 10],\n",
            "        [10, 10, 10]])\n",
            "tensor([[5, 5, 5],\n",
            "        [5, 5, 5]])\n",
            "tensor([[15, 15, 15],\n",
            "        [15, 15, 15]])\n",
            "tensor([[5, 5, 5],\n",
            "        [5, 5, 5]])\n",
            "tensor([[50, 50, 50],\n",
            "        [50, 50, 50]])\n",
            "tensor([[2., 2., 2.],\n",
            "        [2., 2., 2.]])\n",
            "tensor([[100000, 100000, 100000],\n",
            "        [100000, 100000, 100000]])\n",
            "tensor([[2, 2, 2],\n",
            "        [2, 2, 2]])\n"
          ]
        }
      ]
    },
    {
      "cell_type": "markdown",
      "source": [
        "#### Element wise operations on single tensor.\n",
        "\n",
        "> Add blockquote\n",
        "\n"
      ],
      "metadata": {
        "id": "dEXeycmsvz6n"
      }
    },
    {
      "cell_type": "code",
      "source": [
        "# abs\n",
        "c = torch.tensor([-1, -2, 3, 4])\n",
        "print(c)\n",
        "print(torch.abs(c))"
      ],
      "metadata": {
        "colab": {
          "base_uri": "https://localhost:8080/"
        },
        "id": "qji8xfQ3vp-7",
        "outputId": "cdf5cb12-4585-44f1-d4ef-414f3ff0f738"
      },
      "execution_count": 19,
      "outputs": [
        {
          "output_type": "stream",
          "name": "stdout",
          "text": [
            "tensor([-1, -2,  3,  4])\n",
            "tensor([1, 2, 3, 4])\n"
          ]
        }
      ]
    },
    {
      "cell_type": "code",
      "source": [
        "# negative\n",
        "print(c)\n",
        "print(torch.neg(c))"
      ],
      "metadata": {
        "colab": {
          "base_uri": "https://localhost:8080/"
        },
        "id": "gevBASIGwC3u",
        "outputId": "e19ee890-7411-4d25-c1e2-eafc316e2634"
      },
      "execution_count": 20,
      "outputs": [
        {
          "output_type": "stream",
          "name": "stdout",
          "text": [
            "tensor([-1, -2,  3,  4])\n",
            "tensor([ 1,  2, -3, -4])\n"
          ]
        }
      ]
    },
    {
      "cell_type": "code",
      "source": [
        "# round\n",
        "d = torch.tensor([1.1, 2.2, 3.5, 4.6, 5.8])\n",
        "print(d)\n",
        "print(torch.round(d))"
      ],
      "metadata": {
        "colab": {
          "base_uri": "https://localhost:8080/"
        },
        "id": "POdjK9H-wNa5",
        "outputId": "9b91657b-6e1a-401b-b692-9c720866efe1"
      },
      "execution_count": 21,
      "outputs": [
        {
          "output_type": "stream",
          "name": "stdout",
          "text": [
            "tensor([1.1000, 2.2000, 3.5000, 4.6000, 5.8000])\n",
            "tensor([1., 2., 4., 5., 6.])\n"
          ]
        }
      ]
    },
    {
      "cell_type": "code",
      "source": [
        "# ceil\n",
        "print(d)\n",
        "print(torch.ceil(d))"
      ],
      "metadata": {
        "colab": {
          "base_uri": "https://localhost:8080/"
        },
        "id": "C0I7KONKwU7Z",
        "outputId": "c337c4fe-0827-4f2e-ce90-029e589b714f"
      },
      "execution_count": 22,
      "outputs": [
        {
          "output_type": "stream",
          "name": "stdout",
          "text": [
            "tensor([1.1000, 2.2000, 3.5000, 4.6000, 5.8000])\n",
            "tensor([2., 3., 4., 5., 6.])\n"
          ]
        }
      ]
    },
    {
      "cell_type": "code",
      "source": [
        "# floor\n",
        "print(d)\n",
        "print(torch.floor(d))"
      ],
      "metadata": {
        "colab": {
          "base_uri": "https://localhost:8080/"
        },
        "id": "cBBdz7cqweyE",
        "outputId": "7ca570b1-d9c3-42d1-9453-497dc5d2f2f3"
      },
      "execution_count": 23,
      "outputs": [
        {
          "output_type": "stream",
          "name": "stdout",
          "text": [
            "tensor([1.1000, 2.2000, 3.5000, 4.6000, 5.8000])\n",
            "tensor([1., 2., 3., 4., 5.])\n"
          ]
        }
      ]
    },
    {
      "cell_type": "code",
      "source": [
        "# clamp --> use for keeping numbers in the range.\n",
        "print(d)\n",
        "print(torch.clamp(d, min=2, max=4))"
      ],
      "metadata": {
        "colab": {
          "base_uri": "https://localhost:8080/"
        },
        "id": "7kbsRSCuwiiT",
        "outputId": "2398adff-9640-4860-dc7d-526be66f1347"
      },
      "execution_count": 24,
      "outputs": [
        {
          "output_type": "stream",
          "name": "stdout",
          "text": [
            "tensor([1.1000, 2.2000, 3.5000, 4.6000, 5.8000])\n",
            "tensor([2.0000, 2.2000, 3.5000, 4.0000, 4.0000])\n"
          ]
        }
      ]
    },
    {
      "cell_type": "markdown",
      "source": [
        "### 3. Reduction operation. --> Conversion of Tensor into lower dimension."
      ],
      "metadata": {
        "id": "yHEWpi-kxlkC"
      }
    },
    {
      "cell_type": "code",
      "source": [
        "e = torch.randint(size=(2, 3), low=0, high=10)\n",
        "print(e)"
      ],
      "metadata": {
        "colab": {
          "base_uri": "https://localhost:8080/"
        },
        "id": "Tpgp7Bzixw6u",
        "outputId": "e9f0c34b-4c7c-43d8-89c7-4d630ab0e831"
      },
      "execution_count": 25,
      "outputs": [
        {
          "output_type": "stream",
          "name": "stdout",
          "text": [
            "tensor([[9, 3, 4],\n",
            "        [9, 6, 2]])\n"
          ]
        }
      ]
    },
    {
      "cell_type": "code",
      "source": [
        "# sum\n",
        "print(e)\n",
        "print(torch.sum(e))\n",
        "\n",
        "# sum along colums\n",
        "print(torch.sum(e, dim=0))\n",
        "\n",
        "# sum along rows\n",
        "print(torch.sum(e, dim=1))"
      ],
      "metadata": {
        "colab": {
          "base_uri": "https://localhost:8080/"
        },
        "id": "G2UK-Tmh1Jzk",
        "outputId": "6d35ddc4-e1e5-462a-81ec-33363ea090ac"
      },
      "execution_count": 26,
      "outputs": [
        {
          "output_type": "stream",
          "name": "stdout",
          "text": [
            "tensor([[9, 3, 4],\n",
            "        [9, 6, 2]])\n",
            "tensor(33)\n",
            "tensor([18,  9,  6])\n",
            "tensor([16, 17])\n"
          ]
        }
      ]
    },
    {
      "cell_type": "code",
      "source": [
        "# product\n",
        "print(e)\n",
        "print(torch.prod(e.float()))\n",
        "\n",
        "# product along colums\n",
        "print(torch.prod(e.float(), dim=0))\n",
        "\n",
        "# product along rows\n",
        "print(torch.prod(e.float(), dim=1))"
      ],
      "metadata": {
        "colab": {
          "base_uri": "https://localhost:8080/"
        },
        "id": "aw0tRYPo2z1e",
        "outputId": "31154e72-e2e8-489b-cd80-e178c9f7e0d1"
      },
      "execution_count": 27,
      "outputs": [
        {
          "output_type": "stream",
          "name": "stdout",
          "text": [
            "tensor([[9, 3, 4],\n",
            "        [9, 6, 2]])\n",
            "tensor(11664.)\n",
            "tensor([81., 18.,  8.])\n",
            "tensor([108., 108.])\n"
          ]
        }
      ]
    },
    {
      "cell_type": "code",
      "source": [
        "# mean --> work only on float values.\n",
        "print(e)\n",
        "print(torch.mean(e.float()))\n",
        "\n",
        "# mean along colums\n",
        "print(torch.mean(e.float(), dim=0))\n",
        "\n",
        "# mean along rows\n",
        "print(torch.mean(e.float(), dim=1))"
      ],
      "metadata": {
        "colab": {
          "base_uri": "https://localhost:8080/"
        },
        "id": "a1quOLsb1ycV",
        "outputId": "c645dac8-eba7-4953-9334-5d83af5190ef"
      },
      "execution_count": 28,
      "outputs": [
        {
          "output_type": "stream",
          "name": "stdout",
          "text": [
            "tensor([[9, 3, 4],\n",
            "        [9, 6, 2]])\n",
            "tensor(5.5000)\n",
            "tensor([9.0000, 4.5000, 3.0000])\n",
            "tensor([5.3333, 5.6667])\n"
          ]
        }
      ]
    },
    {
      "cell_type": "code",
      "source": [
        "# median\n",
        "print(e)\n",
        "print(torch.median(e.float()))\n",
        "\n",
        "# median along colums\n",
        "print(torch.median(e.float(), dim=0))\n",
        "\n",
        "# median along rows\n",
        "print(torch.median(e.float(), dim=1))"
      ],
      "metadata": {
        "colab": {
          "base_uri": "https://localhost:8080/"
        },
        "id": "hxZt9QM22KV8",
        "outputId": "dbdc0adf-a7c7-4bc0-d15e-42d518b8679f"
      },
      "execution_count": 29,
      "outputs": [
        {
          "output_type": "stream",
          "name": "stdout",
          "text": [
            "tensor([[9, 3, 4],\n",
            "        [9, 6, 2]])\n",
            "tensor(4.)\n",
            "torch.return_types.median(\n",
            "values=tensor([9., 3., 2.]),\n",
            "indices=tensor([0, 0, 1]))\n",
            "torch.return_types.median(\n",
            "values=tensor([4., 6.]),\n",
            "indices=tensor([2, 1]))\n"
          ]
        }
      ]
    },
    {
      "cell_type": "code",
      "source": [
        "# max and min\n",
        "print(e)\n",
        "print(torch.max(e))\n",
        "print(torch.min(e))\n",
        "\n",
        "# max along colums\n",
        "print(torch.max(e, dim=0))"
      ],
      "metadata": {
        "colab": {
          "base_uri": "https://localhost:8080/"
        },
        "id": "LkM_VeA72kOv",
        "outputId": "a6739dfb-f57b-49b4-8f20-c158d5f6a7e0"
      },
      "execution_count": 30,
      "outputs": [
        {
          "output_type": "stream",
          "name": "stdout",
          "text": [
            "tensor([[9, 3, 4],\n",
            "        [9, 6, 2]])\n",
            "tensor(9)\n",
            "tensor(2)\n",
            "torch.return_types.max(\n",
            "values=tensor([9, 6, 4]),\n",
            "indices=tensor([0, 1, 0]))\n"
          ]
        }
      ]
    },
    {
      "cell_type": "code",
      "source": [
        "# standard deviation\n",
        "print(e)\n",
        "print(torch.std(e.float()))\n",
        "\n",
        "# standard deviation along rows\n",
        "print(torch.std(e.float(), dim=1))"
      ],
      "metadata": {
        "colab": {
          "base_uri": "https://localhost:8080/"
        },
        "id": "pmhlRgHT2unp",
        "outputId": "ec3dc463-e3da-4d32-aa3e-566b17df5a5b"
      },
      "execution_count": 31,
      "outputs": [
        {
          "output_type": "stream",
          "name": "stdout",
          "text": [
            "tensor([[9, 3, 4],\n",
            "        [9, 6, 2]])\n",
            "tensor(3.0166)\n",
            "tensor([3.2146, 3.5119])\n"
          ]
        }
      ]
    },
    {
      "cell_type": "code",
      "source": [
        "# variance\n",
        "print(e)\n",
        "print(torch.var(e.float()))\n",
        "\n",
        "# variance along rows\n",
        "print(torch.var(e.float(), dim=1))"
      ],
      "metadata": {
        "colab": {
          "base_uri": "https://localhost:8080/"
        },
        "id": "dnw1IsWm3Gpl",
        "outputId": "6d2b234c-2f2a-46d4-8ae8-2c89a9c2caf2"
      },
      "execution_count": 32,
      "outputs": [
        {
          "output_type": "stream",
          "name": "stdout",
          "text": [
            "tensor([[9, 3, 4],\n",
            "        [9, 6, 2]])\n",
            "tensor(9.1000)\n",
            "tensor([10.3333, 12.3333])\n"
          ]
        }
      ]
    },
    {
      "cell_type": "code",
      "source": [
        "# argmax. --> position of the max value.\n",
        "e = torch.tensor([[1, 2, 3], [4, 5, 6]])\n",
        "print(e)\n",
        "print(torch.argmax(e))\n",
        "print(torch.argmax(e, dim=0))\n",
        "print(torch.argmax(e, dim=1))"
      ],
      "metadata": {
        "colab": {
          "base_uri": "https://localhost:8080/"
        },
        "id": "bvV10pHK3XeJ",
        "outputId": "6be14726-7a0b-40eb-8245-090fef2fddda"
      },
      "execution_count": 33,
      "outputs": [
        {
          "output_type": "stream",
          "name": "stdout",
          "text": [
            "tensor([[1, 2, 3],\n",
            "        [4, 5, 6]])\n",
            "tensor(5)\n",
            "tensor([1, 1, 1])\n",
            "tensor([2, 2])\n"
          ]
        }
      ]
    },
    {
      "cell_type": "code",
      "source": [
        "# argmin.\n",
        "print(e)\n",
        "print(torch.argmin(e))\n",
        "print(torch.argmin(e, dim=0))\n",
        "print(torch.argmin(e, dim=1))"
      ],
      "metadata": {
        "colab": {
          "base_uri": "https://localhost:8080/"
        },
        "id": "o4Md5WFZ3uns",
        "outputId": "3c11ee63-4f96-4802-f931-27caca783cd6"
      },
      "execution_count": 34,
      "outputs": [
        {
          "output_type": "stream",
          "name": "stdout",
          "text": [
            "tensor([[1, 2, 3],\n",
            "        [4, 5, 6]])\n",
            "tensor(0)\n",
            "tensor([0, 0, 0])\n",
            "tensor([0, 0])\n"
          ]
        }
      ]
    },
    {
      "cell_type": "markdown",
      "source": [
        "## 4. Matrix operations"
      ],
      "metadata": {
        "id": "tennanV7RckA"
      }
    },
    {
      "cell_type": "code",
      "source": [
        "vec1 = torch.full((2,3), 2)\n",
        "vec2 = torch.full((3,2), 3)\n",
        "print(vec1)\n",
        "print(vec2)\n",
        "\n",
        "# Multiplication\n",
        "print(torch.matmul(vec1, vec2))"
      ],
      "metadata": {
        "colab": {
          "base_uri": "https://localhost:8080/"
        },
        "id": "CjbfHW14Rj2g",
        "outputId": "29a1a81e-a8ba-4cec-e21d-e1f253b21864"
      },
      "execution_count": 35,
      "outputs": [
        {
          "output_type": "stream",
          "name": "stdout",
          "text": [
            "tensor([[2, 2, 2],\n",
            "        [2, 2, 2]])\n",
            "tensor([[3, 3],\n",
            "        [3, 3],\n",
            "        [3, 3]])\n",
            "tensor([[18, 18],\n",
            "        [18, 18]])\n"
          ]
        }
      ]
    },
    {
      "cell_type": "code",
      "source": [
        "# Dot product --> between two vectors\n",
        "vec1 = torch.tensor([1, 2, 3])\n",
        "vec2 = torch.tensor([4, 5, 6])\n",
        "print(vec1)\n",
        "print(vec2)\n",
        "print(torch.dot(vec1, vec2))"
      ],
      "metadata": {
        "colab": {
          "base_uri": "https://localhost:8080/"
        },
        "id": "atnDn88rSKKQ",
        "outputId": "63258757-eebd-4799-dd5b-aedc43aff649"
      },
      "execution_count": 37,
      "outputs": [
        {
          "output_type": "stream",
          "name": "stdout",
          "text": [
            "tensor([1, 2, 3])\n",
            "tensor([4, 5, 6])\n",
            "tensor(32)\n"
          ]
        }
      ]
    },
    {
      "cell_type": "code",
      "source": [
        "# Transpose\n",
        "vec1 = torch.tensor([[1, 2, 3], [4, 5, 6]])\n",
        "print(vec1)\n",
        "print(vec1.T)"
      ],
      "metadata": {
        "colab": {
          "base_uri": "https://localhost:8080/"
        },
        "id": "BVplYsWNSlfo",
        "outputId": "10b7e096-d656-46f2-c422-63022a0d5226"
      },
      "execution_count": 38,
      "outputs": [
        {
          "output_type": "stream",
          "name": "stdout",
          "text": [
            "tensor([[1, 2, 3],\n",
            "        [4, 5, 6]])\n",
            "tensor([[1, 4],\n",
            "        [2, 5],\n",
            "        [3, 6]])\n"
          ]
        }
      ]
    },
    {
      "cell_type": "code",
      "source": [
        "# determinant\n",
        "vec1 = torch.tensor([[1, 2], [3, 4]])\n",
        "print(vec1)\n",
        "print(torch.det(vec1.float()))"
      ],
      "metadata": {
        "colab": {
          "base_uri": "https://localhost:8080/"
        },
        "id": "El1LiQ_ZS6K0",
        "outputId": "2afa7879-d6db-46b8-b660-8a3e93ee3a29"
      },
      "execution_count": 40,
      "outputs": [
        {
          "output_type": "stream",
          "name": "stdout",
          "text": [
            "tensor([[1, 2],\n",
            "        [3, 4]])\n",
            "tensor(-2.)\n"
          ]
        }
      ]
    },
    {
      "cell_type": "code",
      "source": [
        "# inverse\n",
        "print(vec1)\n",
        "print(torch.inverse(vec1.float()))"
      ],
      "metadata": {
        "colab": {
          "base_uri": "https://localhost:8080/"
        },
        "id": "ONBliNIUTR6m",
        "outputId": "0f4c20d0-7f6a-43da-987a-6f98b369ad15"
      },
      "execution_count": 41,
      "outputs": [
        {
          "output_type": "stream",
          "name": "stdout",
          "text": [
            "tensor([[1, 2],\n",
            "        [3, 4]])\n",
            "tensor([[-2.0000,  1.0000],\n",
            "        [ 1.5000, -0.5000]])\n"
          ]
        }
      ]
    },
    {
      "cell_type": "markdown",
      "source": [
        "## 5. Comparision operations."
      ],
      "metadata": {
        "id": "GPDcREkvTdXI"
      }
    },
    {
      "cell_type": "code",
      "source": [
        "a = torch.tensor([[1, 2, 3], [4, 5, 6]])\n",
        "b = torch.tensor([[1, 2, 6], [4, 7, 8]])\n",
        "print(a)\n",
        "print(b)\n",
        "\n",
        "# greater than\n",
        "print(a > b)\n",
        "\n",
        "# less than\n",
        "print(a < b)\n",
        "\n",
        "# equal to\n",
        "print(a == b)\n",
        "\n",
        "# not equal to\n",
        "print(a != b)\n",
        "\n",
        "# greater than equal to\n",
        "print(a >= b)\n",
        "\n",
        "# less than equal to\n",
        "print(a <= b)"
      ],
      "metadata": {
        "colab": {
          "base_uri": "https://localhost:8080/"
        },
        "id": "u2PdWcQxThbZ",
        "outputId": "90ce075a-f917-45e4-c830-01bc079ce1a6"
      },
      "execution_count": 42,
      "outputs": [
        {
          "output_type": "stream",
          "name": "stdout",
          "text": [
            "tensor([[1, 2, 3],\n",
            "        [4, 5, 6]])\n",
            "tensor([[1, 2, 6],\n",
            "        [4, 7, 8]])\n",
            "tensor([[False, False, False],\n",
            "        [False, False, False]])\n",
            "tensor([[False, False,  True],\n",
            "        [False,  True,  True]])\n",
            "tensor([[ True,  True, False],\n",
            "        [ True, False, False]])\n",
            "tensor([[False, False,  True],\n",
            "        [False,  True,  True]])\n",
            "tensor([[ True,  True, False],\n",
            "        [ True, False, False]])\n",
            "tensor([[True, True, True],\n",
            "        [True, True, True]])\n"
          ]
        }
      ]
    },
    {
      "cell_type": "markdown",
      "source": [
        "## 6. Special functions."
      ],
      "metadata": {
        "id": "Q8qEFus4UFgZ"
      }
    },
    {
      "cell_type": "markdown",
      "source": [
        "### Element wise."
      ],
      "metadata": {
        "id": "7MCwebLWUTxV"
      }
    },
    {
      "cell_type": "code",
      "source": [
        "k = torch.randint(size=(2, 3), low=0, high=10, dtype=torch.float32)\n",
        "print(k)"
      ],
      "metadata": {
        "colab": {
          "base_uri": "https://localhost:8080/"
        },
        "id": "Yw4XluZcUJ1r",
        "outputId": "e3f2b9f5-d55b-4f2a-8efd-be75c02359a4"
      },
      "execution_count": 48,
      "outputs": [
        {
          "output_type": "stream",
          "name": "stdout",
          "text": [
            "tensor([[3., 3., 4.],\n",
            "        [3., 7., 0.]])\n"
          ]
        }
      ]
    },
    {
      "cell_type": "code",
      "source": [
        "# log\n",
        "print(torch.log(k))"
      ],
      "metadata": {
        "colab": {
          "base_uri": "https://localhost:8080/"
        },
        "id": "A3Ek-71CUrrr",
        "outputId": "c9ed1b7d-9c98-4761-c22f-3018e56f68f5"
      },
      "execution_count": 49,
      "outputs": [
        {
          "output_type": "stream",
          "name": "stdout",
          "text": [
            "tensor([[1.0986, 1.0986, 1.3863],\n",
            "        [1.0986, 1.9459,   -inf]])\n"
          ]
        }
      ]
    },
    {
      "cell_type": "code",
      "source": [
        "# exp\n",
        "print(torch.exp(k))"
      ],
      "metadata": {
        "colab": {
          "base_uri": "https://localhost:8080/"
        },
        "id": "-CbpockAU_KU",
        "outputId": "c05704b9-dabe-433d-a353-92ab260a2b81"
      },
      "execution_count": 50,
      "outputs": [
        {
          "output_type": "stream",
          "name": "stdout",
          "text": [
            "tensor([[2.0086e+01, 2.0086e+01, 5.4598e+01],\n",
            "        [2.0086e+01, 1.0966e+03, 1.0000e+00]])\n"
          ]
        }
      ]
    },
    {
      "cell_type": "code",
      "source": [
        "# sqrt\n",
        "print(torch.sqrt(k))"
      ],
      "metadata": {
        "colab": {
          "base_uri": "https://localhost:8080/"
        },
        "id": "nkswrj5EVPQC",
        "outputId": "a09eef9d-677f-467c-e536-30b2f5c985c6"
      },
      "execution_count": 51,
      "outputs": [
        {
          "output_type": "stream",
          "name": "stdout",
          "text": [
            "tensor([[1.7321, 1.7321, 2.0000],\n",
            "        [1.7321, 2.6458, 0.0000]])\n"
          ]
        }
      ]
    },
    {
      "cell_type": "code",
      "source": [
        "# softmax\n",
        "print(torch.softmax(k, dim=0))"
      ],
      "metadata": {
        "colab": {
          "base_uri": "https://localhost:8080/"
        },
        "id": "8xxewA9KVwS0",
        "outputId": "e8e39c13-b3ec-4221-adbf-fd22c905a116"
      },
      "execution_count": 52,
      "outputs": [
        {
          "output_type": "stream",
          "name": "stdout",
          "text": [
            "tensor([[0.5000, 0.0180, 0.9820],\n",
            "        [0.5000, 0.9820, 0.0180]])\n"
          ]
        }
      ]
    },
    {
      "cell_type": "code",
      "source": [
        "# relu\n",
        "print(torch.relu(k))"
      ],
      "metadata": {
        "colab": {
          "base_uri": "https://localhost:8080/"
        },
        "id": "QIaGsgiwV-tz",
        "outputId": "29294cc0-0535-4e4a-d0cd-daf7d95d4d7e"
      },
      "execution_count": 53,
      "outputs": [
        {
          "output_type": "stream",
          "name": "stdout",
          "text": [
            "tensor([[3., 3., 4.],\n",
            "        [3., 7., 0.]])\n"
          ]
        }
      ]
    },
    {
      "cell_type": "markdown",
      "source": [
        "# Inplace Operations."
      ],
      "metadata": {
        "id": "B-RXc_frWSRI"
      }
    },
    {
      "cell_type": "code",
      "source": [
        "# It modify the content of a tensor directly without creating a new copy. These operations are designed to save memory by avoiding additional allocations.\n",
        "\n",
        "m = torch.randint(size=(2, 3), low=0, high=10, dtype=torch.float32)\n",
        "print(m)\n",
        "n = torch.randint(size=(2, 3), low=0, high=10, dtype=torch.float32)\n",
        "print(n)\n",
        "\n",
        "m.add_(n)\n",
        "print(m)"
      ],
      "metadata": {
        "colab": {
          "base_uri": "https://localhost:8080/"
        },
        "id": "bpRkV8ljWVye",
        "outputId": "2b5f9158-193c-471f-a657-da606c6b9695"
      },
      "execution_count": 54,
      "outputs": [
        {
          "output_type": "stream",
          "name": "stdout",
          "text": [
            "tensor([[9., 0., 9.],\n",
            "        [6., 9., 5.]])\n",
            "tensor([[4., 8., 8.],\n",
            "        [6., 0., 0.]])\n",
            "tensor([[13.,  8., 17.],\n",
            "        [12.,  9.,  5.]])\n"
          ]
        }
      ]
    },
    {
      "cell_type": "code",
      "source": [
        "print(torch.relu(m))\n",
        "\n",
        "m.relu_()\n",
        "print(m)"
      ],
      "metadata": {
        "colab": {
          "base_uri": "https://localhost:8080/"
        },
        "id": "CY3OTQaMX63i",
        "outputId": "d763399b-5197-47b1-9c5e-4b93ff0f66e6"
      },
      "execution_count": 55,
      "outputs": [
        {
          "output_type": "stream",
          "name": "stdout",
          "text": [
            "tensor([[13.,  8., 17.],\n",
            "        [12.,  9.,  5.]])\n",
            "tensor([[13.,  8., 17.],\n",
            "        [12.,  9.,  5.]])\n"
          ]
        }
      ]
    },
    {
      "cell_type": "markdown",
      "source": [
        "# Copying a Tensor."
      ],
      "metadata": {
        "id": "ZUWgeCmYYXkq"
      }
    },
    {
      "cell_type": "code",
      "source": [
        "a = torch.rand(2,3)\n",
        "print(a)"
      ],
      "metadata": {
        "colab": {
          "base_uri": "https://localhost:8080/"
        },
        "id": "kj2GsESKYavK",
        "outputId": "233a7886-0298-4051-cdb6-ae6e768cd75c"
      },
      "execution_count": 60,
      "outputs": [
        {
          "output_type": "stream",
          "name": "stdout",
          "text": [
            "tensor([[0.2018, 0.9497, 0.6666],\n",
            "        [0.9811, 0.0874, 0.0041]])\n"
          ]
        }
      ]
    },
    {
      "cell_type": "code",
      "source": [
        "b = a\n",
        "print(b)\n",
        "\n",
        "a[0][0] = 0          # Here you will see the changes in b too.\n",
        "\n",
        "print(a)\n",
        "print(b)\n",
        "\n",
        "print(id(a))\n",
        "print(id(b))"
      ],
      "metadata": {
        "colab": {
          "base_uri": "https://localhost:8080/"
        },
        "id": "y7d1rBeJYhLj",
        "outputId": "0db9f7aa-750f-46f1-c39b-adf04db93265"
      },
      "execution_count": 62,
      "outputs": [
        {
          "output_type": "stream",
          "name": "stdout",
          "text": [
            "tensor([[0.2018, 0.9497, 0.6666],\n",
            "        [0.9811, 0.0874, 0.0041]])\n",
            "tensor([[0.0000, 0.9497, 0.6666],\n",
            "        [0.9811, 0.0874, 0.0041]])\n",
            "tensor([[0.0000, 0.9497, 0.6666],\n",
            "        [0.9811, 0.0874, 0.0041]])\n",
            "137965724536080\n",
            "137965724536080\n"
          ]
        }
      ]
    },
    {
      "cell_type": "code",
      "source": [
        "b = a.clone()\n",
        "\n",
        "print(id(a))\n",
        "print(id(b))"
      ],
      "metadata": {
        "colab": {
          "base_uri": "https://localhost:8080/"
        },
        "id": "2luhmqmmY47o",
        "outputId": "50227810-49f2-44c1-fcc2-80d93586c8ab"
      },
      "execution_count": 63,
      "outputs": [
        {
          "output_type": "stream",
          "name": "stdout",
          "text": [
            "137965724536080\n",
            "137965724540688\n"
          ]
        }
      ]
    },
    {
      "cell_type": "markdown",
      "source": [
        "# Tensor Operations on GPU."
      ],
      "metadata": {
        "id": "Y4xh52rCZO0i"
      }
    },
    {
      "cell_type": "code",
      "source": [
        "print(torch.cuda.is_available())"
      ],
      "metadata": {
        "colab": {
          "base_uri": "https://localhost:8080/"
        },
        "id": "9NModW1vZOKw",
        "outputId": "2d0ea671-27e0-4768-f1e8-a31029d73634"
      },
      "execution_count": 65,
      "outputs": [
        {
          "output_type": "stream",
          "name": "stdout",
          "text": [
            "True\n"
          ]
        }
      ]
    },
    {
      "cell_type": "code",
      "source": [
        "device = torch.device('cuda' if torch.cuda.is_available() else 'cpu')\n",
        "print(device)"
      ],
      "metadata": {
        "colab": {
          "base_uri": "https://localhost:8080/"
        },
        "id": "ocOefai8Zgxw",
        "outputId": "f7d5a12a-6373-4f19-b010-458446eaf0d0"
      },
      "execution_count": 66,
      "outputs": [
        {
          "output_type": "stream",
          "name": "stdout",
          "text": [
            "cuda\n"
          ]
        }
      ]
    },
    {
      "cell_type": "code",
      "source": [
        "# Creating a new tensors on GPU. Here we are using the VRAM of the GPU. In CPU we were using CPU's RAM.\n",
        "x = torch.rand(2, 3, device=device)\n",
        "print(x)"
      ],
      "metadata": {
        "colab": {
          "base_uri": "https://localhost:8080/"
        },
        "id": "Pd53wx8dZu8U",
        "outputId": "37009d39-e092-4f48-9ea2-b7fe4ab001c2"
      },
      "execution_count": 67,
      "outputs": [
        {
          "output_type": "stream",
          "name": "stdout",
          "text": [
            "tensor([[0.6130, 0.0101, 0.3984],\n",
            "        [0.0403, 0.1563, 0.4825]], device='cuda:0')\n"
          ]
        }
      ]
    },
    {
      "cell_type": "code",
      "source": [
        "# Moving an existing tensor to GPU.\n",
        "y = torch.rand(2, 3)              # CPU tensor.\n",
        "print(y)\n",
        "print(id(y))\n",
        "\n",
        "y = y.to(device)\n",
        "print(y)\n",
        "print(id(y))"
      ],
      "metadata": {
        "colab": {
          "base_uri": "https://localhost:8080/"
        },
        "id": "QrDubCnZaGoC",
        "outputId": "060520e2-6691-4303-afe8-fd48b83a1079"
      },
      "execution_count": 69,
      "outputs": [
        {
          "output_type": "stream",
          "name": "stdout",
          "text": [
            "tensor([[0.1591, 0.7653, 0.2979],\n",
            "        [0.8035, 0.3813, 0.7860]])\n",
            "137965716254896\n",
            "tensor([[0.1591, 0.7653, 0.2979],\n",
            "        [0.8035, 0.3813, 0.7860]], device='cuda:0')\n",
            "137965713104944\n"
          ]
        }
      ]
    },
    {
      "cell_type": "markdown",
      "source": [
        "Checking how GPU tensors work better for large calculations."
      ],
      "metadata": {
        "id": "bNE_D94DasWk"
      }
    },
    {
      "cell_type": "code",
      "source": [
        "import time\n",
        "\n",
        "# Define the size of the matrices\n",
        "size = 10000\n",
        "\n",
        "# Create random matrices on CPU\n",
        "matrix_cpu1 = torch.rand(size, size)\n",
        "matrix_cpu2 = torch.rand(size, size)\n",
        "\n",
        "# Measure time on CPU\n",
        "start_time = time.time()\n",
        "result_cpu = torch.matmul(matrix_cpu1, matrix_cpu2)\n",
        "end_time = time.time()\n",
        "cpu_time = end_time - start_time\n",
        "print(f\"Time taken on CPU: {cpu_time} seconds\")\n",
        "\n",
        "# Create corresponding matrices on GPU\n",
        "matrix_gpu1 = matrix_cpu1.to(device)\n",
        "matrix_gpu2 = matrix_cpu2.to(device)\n",
        "\n",
        "# Measure time on GPU\n",
        "start_time = time.time()\n",
        "result_gpu = torch.matmul(matrix_gpu1, matrix_gpu2)\n",
        "end_time = time.time()\n",
        "gpu_time = end_time - start_time\n",
        "print(f\"Time taken on GPU: {gpu_time} seconds\")"
      ],
      "metadata": {
        "colab": {
          "base_uri": "https://localhost:8080/"
        },
        "id": "PX9kA-RCa1nm",
        "outputId": "7259b1d8-e5a8-49e6-fa7c-fe0e539755cc"
      },
      "execution_count": 70,
      "outputs": [
        {
          "output_type": "stream",
          "name": "stdout",
          "text": [
            "Time taken on CPU: 16.018537282943726 seconds\n",
            "Time taken on GPU: 0.12235856056213379 seconds\n"
          ]
        }
      ]
    },
    {
      "cell_type": "markdown",
      "source": [
        "# Reshaping Tensors."
      ],
      "metadata": {
        "id": "olgbVw5IcLgg"
      }
    },
    {
      "cell_type": "code",
      "source": [
        "a = torch.ones(4,4)\n",
        "print(a)\n",
        "\n",
        "# reshape\n",
        "print(a.reshape(2,2,2,2))"
      ],
      "metadata": {
        "colab": {
          "base_uri": "https://localhost:8080/"
        },
        "id": "5UoaKHsjcOsh",
        "outputId": "9a116dbb-640c-40a6-bbe4-4dd39cd74481"
      },
      "execution_count": 71,
      "outputs": [
        {
          "output_type": "stream",
          "name": "stdout",
          "text": [
            "tensor([[1., 1., 1., 1.],\n",
            "        [1., 1., 1., 1.],\n",
            "        [1., 1., 1., 1.],\n",
            "        [1., 1., 1., 1.]])\n",
            "tensor([[[[1., 1.],\n",
            "          [1., 1.]],\n",
            "\n",
            "         [[1., 1.],\n",
            "          [1., 1.]]],\n",
            "\n",
            "\n",
            "        [[[1., 1.],\n",
            "          [1., 1.]],\n",
            "\n",
            "         [[1., 1.],\n",
            "          [1., 1.]]]])\n"
          ]
        }
      ]
    },
    {
      "cell_type": "code",
      "source": [
        "# flatten\n",
        "print(a.flatten())"
      ],
      "metadata": {
        "colab": {
          "base_uri": "https://localhost:8080/"
        },
        "id": "SsCQlYywcgxf",
        "outputId": "35ee3c9e-e791-46e7-edcc-35527bcb7299"
      },
      "execution_count": 74,
      "outputs": [
        {
          "output_type": "stream",
          "name": "stdout",
          "text": [
            "tensor([1., 1., 1., 1., 1., 1., 1., 1., 1., 1., 1., 1., 1., 1., 1., 1.])\n"
          ]
        }
      ]
    },
    {
      "cell_type": "code",
      "source": [
        "b = torch.randint(size=(2, 3, 4), low=0, high=10)\n",
        "print(b)\n",
        "print(b.shape)\n",
        "# permute\n",
        "print(b.permute(2, 0, 1))\n",
        "print(b.permute(2, 0, 1).shape)"
      ],
      "metadata": {
        "colab": {
          "base_uri": "https://localhost:8080/"
        },
        "id": "IpTCUvwYcrsS",
        "outputId": "0b0765eb-8ae9-4fdb-c8a5-3d68aede43c8"
      },
      "execution_count": 76,
      "outputs": [
        {
          "output_type": "stream",
          "name": "stdout",
          "text": [
            "tensor([[[0, 9, 4, 7],\n",
            "         [1, 7, 2, 7],\n",
            "         [1, 2, 4, 6]],\n",
            "\n",
            "        [[2, 0, 7, 9],\n",
            "         [3, 5, 5, 1],\n",
            "         [0, 3, 7, 9]]])\n",
            "torch.Size([2, 3, 4])\n",
            "tensor([[[0, 1, 1],\n",
            "         [2, 3, 0]],\n",
            "\n",
            "        [[9, 7, 2],\n",
            "         [0, 5, 3]],\n",
            "\n",
            "        [[4, 2, 4],\n",
            "         [7, 5, 7]],\n",
            "\n",
            "        [[7, 7, 6],\n",
            "         [9, 1, 9]]])\n",
            "torch.Size([4, 2, 3])\n"
          ]
        }
      ]
    },
    {
      "cell_type": "code",
      "source": [
        "# unsqueeze       --> use to add new dimension in the tensor.\n",
        "#image size\n",
        "c = torch.rand(226,226,3)\n",
        "print(c.shape)\n",
        "print(c.unsqueeze(dim=0).shape)\n",
        "print(c.unsqueeze(dim=1).shape)"
      ],
      "metadata": {
        "colab": {
          "base_uri": "https://localhost:8080/"
        },
        "id": "utrzQpISdHdp",
        "outputId": "40273567-66e0-4789-e2af-e4bd56f4d1fe"
      },
      "execution_count": 77,
      "outputs": [
        {
          "output_type": "stream",
          "name": "stdout",
          "text": [
            "torch.Size([226, 226, 3])\n",
            "torch.Size([1, 226, 226, 3])\n",
            "torch.Size([226, 1, 226, 3])\n"
          ]
        }
      ]
    },
    {
      "cell_type": "code",
      "source": [
        "# squeeze\n",
        "c = torch.rand(1, 226, 226, 3)\n",
        "print(c.shape)\n",
        "print(c.squeeze(dim=0).shape)"
      ],
      "metadata": {
        "colab": {
          "base_uri": "https://localhost:8080/"
        },
        "id": "hMsbzIvaeUoJ",
        "outputId": "ebbc7b63-2afb-40d4-fac1-29d10d20e29e"
      },
      "execution_count": 81,
      "outputs": [
        {
          "output_type": "stream",
          "name": "stdout",
          "text": [
            "torch.Size([1, 226, 226, 3])\n",
            "torch.Size([226, 226, 3])\n"
          ]
        }
      ]
    },
    {
      "cell_type": "markdown",
      "source": [
        "# Moving Tensors form NumPy to PyTorch or PyTorch to NumPy."
      ],
      "metadata": {
        "id": "ahflJOiaerGt"
      }
    },
    {
      "cell_type": "code",
      "source": [
        "import numpy as np\n",
        "\n",
        "a = torch.rand(2, 3)\n",
        "print(a)\n",
        "print(type(a))\n",
        "\n",
        "b = a.numpy()\n",
        "print(type(b))\n",
        "\n",
        "c = np.ones((2, 3))\n",
        "print(c)\n",
        "print(type(c))\n",
        "\n",
        "d = torch.from_numpy(c)\n",
        "print(type(d))"
      ],
      "metadata": {
        "colab": {
          "base_uri": "https://localhost:8080/"
        },
        "id": "Duy5U8Zpeq0E",
        "outputId": "afba3f06-8631-4e88-aaa5-8a4b8da72e77"
      },
      "execution_count": 82,
      "outputs": [
        {
          "output_type": "stream",
          "name": "stdout",
          "text": [
            "tensor([[0.7794, 0.3077, 0.6413],\n",
            "        [0.7836, 0.3183, 0.5148]])\n",
            "<class 'torch.Tensor'>\n",
            "<class 'numpy.ndarray'>\n",
            "[[1. 1. 1.]\n",
            " [1. 1. 1.]]\n",
            "<class 'numpy.ndarray'>\n",
            "<class 'torch.Tensor'>\n"
          ]
        }
      ]
    }
  ]
}